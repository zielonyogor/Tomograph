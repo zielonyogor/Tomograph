{
 "cells": [
  {
   "cell_type": "code",
   "execution_count": 35,
   "metadata": {},
   "outputs": [],
   "source": [
    "from skimage import io\n",
    "import matplotlib.pylab as plt\n",
    "import numpy as np\n",
    "from skimage.draw import line_nd\n",
    "from skimage.util import img_as_ubyte, img_as_float64\n",
    "import glob\n",
    "from ipywidgets import interact, Dropdown, IntSlider, Layout, Checkbox, Button, HTML\n",
    "from IPython.display import display\n",
    "\n",
    "filename = \"./images/Shepp_logan.jpg\"\n",
    "test = io.imread(filename)\n",
    "#test = img_as_float64(test)"
   ]
  },
  {
   "cell_type": "markdown",
   "metadata": {},
   "source": [
    "### Algorytm Bresenhama"
   ]
  },
  {
   "cell_type": "code",
   "execution_count": 36,
   "metadata": {},
   "outputs": [],
   "source": [
    "def bresenham(x0, y0, x1, y1):\n",
    "    points = []\n",
    "    \n",
    "    dx = abs(x1 - x0)\n",
    "    dy = abs(y1 - y0)\n",
    "    \n",
    "    sx = 1 if x0 < x1 else -1\n",
    "    sy = 1 if y0 < y1 else -1\n",
    "    err = dx - dy\n",
    "\n",
    "    while True:\n",
    "        points.append((y0, x0))\n",
    "        if x0 == x1 and y0 == y1:\n",
    "            break\n",
    "        e2 = 2 * err\n",
    "        if e2 > -dy:\n",
    "            err -= dy\n",
    "            x0 += sx\n",
    "        if e2 < dx:\n",
    "            err += dx\n",
    "            y0 += sy\n",
    "\n",
    "    return points"
   ]
  },
  {
   "cell_type": "code",
   "execution_count": 37,
   "metadata": {},
   "outputs": [],
   "source": [
    "# makes image bigger (so that circle will be inside)\n",
    "def pad_image(image):\n",
    "    original_size = image.shape\n",
    "    image_center = (original_size[0] // 2, original_size[1] // 2)\n",
    "    required_radius = int(max(image_center) * np.sqrt(2))\n",
    "\n",
    "    padding = max(0, required_radius - max(image_center))\n",
    "\n",
    "    if padding > 0:\n",
    "        image = np.pad(image, ((padding, padding), (padding, padding)), mode='constant', constant_values=0)\n",
    "    \n",
    "    return image"
   ]
  },
  {
   "cell_type": "code",
   "execution_count": 38,
   "metadata": {},
   "outputs": [],
   "source": [
    "def normalize_image(image):\n",
    "    image = np.maximum(image, 0)\n",
    "    max_val = np.quantile(image, 0.999)\n",
    "    image = np.clip(image / max_val, 0, 1) if max_val > 0 else np.zeros_like(image)\n",
    "    return image"
   ]
  },
  {
   "cell_type": "markdown",
   "metadata": {},
   "source": [
    "# Transformata Radona"
   ]
  },
  {
   "cell_type": "code",
   "execution_count": 39,
   "metadata": {},
   "outputs": [],
   "source": [
    "def radon_transform(image, detectors = 180, detectors_angular_span = 180, step = 1):\n",
    "    image_center = (image.shape[0] // 2, image.shape[1] // 2)\n",
    "    image_radius = max(image_center) * np.sqrt(2)\n",
    "\n",
    "    emiter_angles = np.deg2rad(np.arange(0, 360, step))\n",
    "    radon_image = np.zeros((len(emiter_angles), detectors), dtype=image.dtype)\n",
    "\n",
    "    detectors_angle = np.deg2rad(detectors_angular_span)\n",
    "    detectors_gap = detectors_angle / (detectors - 1)\n",
    "\n",
    "    for i, angle in enumerate(emiter_angles):\n",
    "        emiter_pos = (int(image_radius * np.cos(angle) + image_center[0]), \n",
    "                      int(image_radius * np.sin(angle) + image_center[1]))\n",
    "\n",
    "        for j in range(detectors):\n",
    "            detector_pos = (int(image_radius * (np.cos(angle + np.pi - detectors_angle / 2 + j * detectors_gap)) + image_center[0]),\n",
    "                            int(image_radius * (np.sin(angle + np.pi - detectors_angle / 2 + j * detectors_gap)) + image_center[1]))\n",
    "\n",
    "            line_pixels = bresenham(emiter_pos[0], emiter_pos[1], detector_pos[0], detector_pos[1])\n",
    "            \n",
    "            valid_pixels = [(y, x) for y, x in line_pixels if 0 <= y < image.shape[0] and 0 <= x < image.shape[1]]\n",
    "\n",
    "            if valid_pixels:\n",
    "                radon_image[i, j] = np.mean([image[y, x] for y, x in valid_pixels])\n",
    "\n",
    "    return radon_image"
   ]
  },
  {
   "cell_type": "markdown",
   "metadata": {},
   "source": [
    "# Odwrócona transformata Radona"
   ]
  },
  {
   "cell_type": "code",
   "execution_count": null,
   "metadata": {},
   "outputs": [],
   "source": [
    "def inverse_radon_transform(image, image_size, detectors_angular_span = 180, step = 1):\n",
    "    reconstructed_image = np.zeros((image_size[0], image_size[1]), dtype=image.dtype)\n",
    "    \n",
    "    # get scans/detectors from image\n",
    "    scans = image.shape[0]\n",
    "    detectors = image.shape[1]\n",
    "\n",
    "    image_center = (image_size[0] // 2, image_size[1] // 2)\n",
    "    image_radius = max(image_center) * np.sqrt(2)\n",
    "\n",
    "    emiter_angles = np.deg2rad(np.arange(0, 360, step))\n",
    "    detectors_angle = np.deg2rad(detectors_angular_span)\n",
    "    detectors_gap = detectors_angle / (detectors - 1)\n",
    "\n",
    "    for i, angle in enumerate(emiter_angles):\n",
    "        emiter_pos = (int(image_radius * np.cos(angle) + image_center[0]), \n",
    "                        int(image_radius * np.sin(angle) + image_center[1]))\n",
    "\n",
    "        for j in range(detectors):\n",
    "            detector_pos = (int(image_radius * (np.cos(angle + np.pi - detectors_angle / 2 + j * detectors_gap)) + image_center[0]),\n",
    "                            int(image_radius * (np.sin(angle + np.pi - detectors_angle / 2 + j * detectors_gap)) + image_center[1]))\n",
    "\n",
    "            line_pixels = bresenham(emiter_pos[0], emiter_pos[1], detector_pos[0], detector_pos[1])\n",
    "\n",
    "            valid_pixels = [(y, x) for y, x in line_pixels if 0 <= y < image_size[0] and 0 <= x < image_size[1]]\n",
    "            if valid_pixels:\n",
    "                rows, cols = zip(*valid_pixels)\n",
    "                reconstructed_image[rows, cols] += image[i, j] / len(valid_pixels)\n",
    "\n",
    "    return reconstructed_image"
   ]
  },
  {
   "cell_type": "markdown",
   "metadata": {},
   "source": [
    "# Filtr sinogramu"
   ]
  },
  {
   "cell_type": "code",
   "execution_count": 41,
   "metadata": {},
   "outputs": [],
   "source": [
    "def filter_sinogram(image, kernel_size=21):\n",
    "    # make it odd\n",
    "    if kernel_size % 2 == 0:\n",
    "        kernel_size += 1\n",
    "\n",
    "    kernel = np.zeros(kernel_size)\n",
    "    kernel_center = kernel_size // 2\n",
    "    kernel[kernel_center] = 1\n",
    "    for i in range(kernel_center + 1, kernel_size, 2):\n",
    "        val = (-4 / np.pi**2) / (i - kernel_center)**2\n",
    "        kernel[i] = val\n",
    "        kernel[-(i + 1)] = val\n",
    "\n",
    "    filtered_image = np.zeros((image.shape[0], image.shape[1]), dtype=image.dtype)\n",
    "    for i in range(image.shape[0]):\n",
    "        filtered_image[i, :] = np.convolve(image[i, :], kernel, mode='same')\n",
    "    return filtered_image"
   ]
  },
  {
   "cell_type": "markdown",
   "metadata": {},
   "source": [
    "# Interaktywne tworzenie tomografu"
   ]
  },
  {
   "cell_type": "code",
   "execution_count": 42,
   "metadata": {},
   "outputs": [],
   "source": [
    "# global variables\n",
    "selected_image_path = \"\"\n",
    "detectors = 180\n",
    "detectors_angular_span = 180\n",
    "step = 1\n",
    "\n",
    "is_filter = True\n",
    "\n",
    "def set_parameters(image, d, arch, i):\n",
    "    global selected_image_path, scans, detectors, detectors_angular_span, step\n",
    "    selected_image_path = image\n",
    "    detectors = d\n",
    "    detectors_angular_span = arch\n",
    "    step = i\n",
    "\n",
    "def set_is_filter(val):\n",
    "    global is_filter\n",
    "    is_filter = val"
   ]
  },
  {
   "cell_type": "code",
   "execution_count": 43,
   "metadata": {},
   "outputs": [],
   "source": [
    "def show_plot(arg):\n",
    "    image = io.imread(selected_image_path)\n",
    "\n",
    "    if image.ndim == 3:\n",
    "        image = image[..., 0]\n",
    "    \n",
    "#    image = pad_image(image)\n",
    "    \n",
    "    sinogram = radon_transform(image, detectors=detectors, detectors_angular_span=detectors_angular_span, step=step)\n",
    "\n",
    "    filtered_sinogram = []\n",
    "    if is_filter:\n",
    "        filtered_sinogram = filter_sinogram(img_as_float64(sinogram))\n",
    "    \n",
    "    fig, axes = plt.subplots(1, 2, figsize=(10, 5))\n",
    "\n",
    "    axes[0].imshow(sinogram, cmap='gray', aspect='auto')\n",
    "    axes[0].set_title(\"Sinogram (no filter)\")\n",
    "    axes[0].axis(\"off\")\n",
    "\n",
    "    axes[1].imshow(filtered_sinogram, cmap='gray', aspect='auto')\n",
    "    axes[1].set_title(\"Sinogram (filter)\")\n",
    "    axes[1].axis(\"off\")\n",
    "\n",
    "    plt.show()\n",
    "    \n",
    "    inversed_sinogram = inverse_radon_transform(sinogram, image.shape, detectors_angular_span=detectors_angular_span, step=step)\n",
    "    inversed_sinogram_filtered = inverse_radon_transform(filtered_sinogram, image.shape, detectors_angular_span=detectors_angular_span, step=step)\n",
    "\n",
    "    fig, axes = plt.subplots(1, 2, figsize=(10, 5))\n",
    "\n",
    "    axes[0].imshow(inversed_sinogram, cmap='gray')\n",
    "    axes[0].set_title(\"Inversed sinogram (no filter)\")\n",
    "    axes[0].axis(\"off\")\n",
    "\n",
    "    axes[1].imshow(inversed_sinogram_filtered, cmap='gray')\n",
    "    axes[1].set_title(\"Inversed sinogram (filter)\")\n",
    "    axes[1].axis(\"off\")\n",
    "\n",
    "    plt.show()"
   ]
  },
  {
   "cell_type": "markdown",
   "metadata": {},
   "source": [
    "# Interaktywny wybór parametrów i zdjęcia"
   ]
  },
  {
   "cell_type": "code",
   "execution_count": 44,
   "metadata": {},
   "outputs": [
    {
     "data": {
      "application/vnd.jupyter.widget-view+json": {
       "model_id": "55f21c35ee4944a9a8285a3b979fcb36",
       "version_major": 2,
       "version_minor": 0
      },
      "text/plain": [
       "interactive(children=(Dropdown(description='Filename', index=3, layout=Layout(width='80%'), options=('.\\\\image…"
      ]
     },
     "metadata": {},
     "output_type": "display_data"
    },
    {
     "data": {
      "application/vnd.jupyter.widget-view+json": {
       "model_id": "596268d8a111491daea6069c2164ab60",
       "version_major": 2,
       "version_minor": 0
      },
      "text/plain": [
       "interactive(children=(Checkbox(value=True, description='Sinogram filtering'), Output()), _dom_classes=('widget…"
      ]
     },
     "metadata": {},
     "output_type": "display_data"
    },
    {
     "data": {
      "application/vnd.jupyter.widget-view+json": {
       "model_id": "b46903ff11604c1d94818f2c5a87457d",
       "version_major": 2,
       "version_minor": 0
      },
      "text/plain": [
       "Button(description='Show results', style=ButtonStyle())"
      ]
     },
     "metadata": {},
     "output_type": "display_data"
    }
   ],
   "source": [
    "filenames = glob.glob(\".\\\\images\\\\*.jpg\")\n",
    "\n",
    "interact(set_parameters,\n",
    "         image=Dropdown(options=filenames, value='.\\\\images\\\\Kropka.jpg', description='Filename', layout=Layout(width='80%'), style={'description_width': '200px'}),\n",
    "         d=IntSlider(value=180, min=90, max=720, step=30, description='Amount of detectors:', layout=Layout(width='80%'), style={'description_width': '200px'}),\n",
    "         arch=IntSlider(value=180, min=90, max=360, step=10, description='Detectors angular span:', layout=Layout(width='80%'), style={'description_width': '200px'}),\n",
    "         i=IntSlider(value=2, min=1, max=10, step=1, description='Emiter-detectors rotate steps:', layout=Layout(width='80%'), style={'description_width': '200px'})\n",
    ")\n",
    "\n",
    "interact(set_is_filter, val=Checkbox(value=True, description='Sinogram filtering'))\n",
    "\n",
    "button = Button(description=\"Show results\")\n",
    "button.on_click(show_plot)\n",
    "\n",
    "display(button)"
   ]
  }
 ],
 "metadata": {
  "kernelspec": {
   "display_name": "Python 3",
   "language": "python",
   "name": "python3"
  },
  "language_info": {
   "codemirror_mode": {
    "name": "ipython",
    "version": 3
   },
   "file_extension": ".py",
   "mimetype": "text/x-python",
   "name": "python",
   "nbconvert_exporter": "python",
   "pygments_lexer": "ipython3",
   "version": "3.11.0"
  }
 },
 "nbformat": 4,
 "nbformat_minor": 2
}
