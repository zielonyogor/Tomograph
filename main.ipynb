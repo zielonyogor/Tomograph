{
 "cells": [
  {
   "cell_type": "markdown",
   "metadata": {},
   "source": [
    "# Tomograf"
   ]
  },
  {
   "cell_type": "markdown",
   "metadata": {},
   "source": [
    "155910 Katarzyna Jaromirska \\\n",
    "155898 Łukasz Grobelny"
   ]
  },
  {
   "cell_type": "markdown",
   "metadata": {},
   "source": [
    "### Importy"
   ]
  },
  {
   "cell_type": "code",
   "execution_count": null,
   "metadata": {},
   "outputs": [],
   "source": [
    "from skimage import io\n",
    "import matplotlib.pylab as plt\n",
    "import numpy as np\n",
    "from skimage.draw import line_nd\n",
    "from skimage.util import img_as_ubyte, img_as_float64\n",
    "import glob\n",
    "import ipywidgets as widgets\n",
    "from IPython.display import display\n",
    "import pydicom\n",
    "import random\n",
    "import datetime\n",
    "import re"
   ]
  },
  {
   "cell_type": "markdown",
   "metadata": {},
   "source": [
    "### Wczytanie obrazu"
   ]
  },
  {
   "cell_type": "code",
   "execution_count": null,
   "metadata": {},
   "outputs": [],
   "source": [
    "def load_image(file):\n",
    "    if file.endswith(\".dcm\"):\n",
    "        dcm = pydicom.dcmread(file)\n",
    "        return dcm.pixel_array.astype(np.uint8)\n",
    "    else:\n",
    "        return io.imread(file, as_gray=True)"
   ]
  },
  {
   "cell_type": "markdown",
   "metadata": {},
   "source": [
    "### Algorytm Bresenhama"
   ]
  },
  {
   "cell_type": "code",
   "execution_count": null,
   "metadata": {},
   "outputs": [],
   "source": [
    "def bresenham(x0, y0, x1, y1):\n",
    "    points = []\n",
    "    \n",
    "    dx = abs(x1 - x0)\n",
    "    dy = abs(y1 - y0)\n",
    "    \n",
    "    sx = 1 if x0 < x1 else -1\n",
    "    sy = 1 if y0 < y1 else -1\n",
    "    err = dx - dy\n",
    "\n",
    "    while True:\n",
    "        points.append((y0, x0))\n",
    "        if x0 == x1 and y0 == y1:\n",
    "            break\n",
    "        e2 = 2 * err\n",
    "        if e2 > -dy:\n",
    "            err -= dy\n",
    "            x0 += sx\n",
    "        if e2 < dx:\n",
    "            err += dx\n",
    "            y0 += sy\n",
    "\n",
    "    return points"
   ]
  },
  {
   "cell_type": "markdown",
   "metadata": {},
   "source": [
    "### Zmiana wielkości obrazu"
   ]
  },
  {
   "cell_type": "code",
   "execution_count": null,
   "metadata": {},
   "outputs": [],
   "source": [
    "def resize_image(image):\n",
    "    a, b = image.shape\n",
    "    if a == b:\n",
    "        return image\n",
    "    \n",
    "    size = max(a, b)\n",
    "    resized_image = np.zeros((size, size), dtype=image.dtype)\n",
    "\n",
    "    start_x = (size - a) // 2\n",
    "    start_y = (size - b) // 2\n",
    "\n",
    "    resized_image[start_x:start_x + a, start_y:start_y + b] = image\n",
    "    return resized_image"
   ]
  },
  {
   "cell_type": "code",
   "execution_count": null,
   "metadata": {},
   "outputs": [],
   "source": [
    "def size_back(resized_image, original_size):\n",
    "    size = resized_image.shape[0]\n",
    "\n",
    "    start_x = (size - original_size[0]) // 2\n",
    "    start_y = (size - original_size[1]) // 2\n",
    "\n",
    "    original_image = resized_image[start_x:start_x + original_size[0], start_y:start_y + original_size[1]]\n",
    "\n",
    "    return original_image"
   ]
  },
  {
   "cell_type": "markdown",
   "metadata": {},
   "source": [
    "### Normalizacja wartości obrazu"
   ]
  },
  {
   "cell_type": "code",
   "execution_count": null,
   "metadata": {},
   "outputs": [],
   "source": [
    "def normalize_image(image):\n",
    "    image = np.maximum(image, 0)\n",
    "    max_val = np.quantile(image, 0.999)\n",
    "    image = np.clip(image / max_val, 0, 1) if max_val > 0 else np.zeros_like(image)\n",
    "    return image"
   ]
  },
  {
   "cell_type": "markdown",
   "metadata": {},
   "source": [
    "# Transformata Radona"
   ]
  },
  {
   "cell_type": "code",
   "execution_count": null,
   "metadata": {},
   "outputs": [],
   "source": [
    "def radon_transform(image, detectors = 180, detectors_angular_span = 180, step = 1):\n",
    "    image_center = (image.shape[0] // 2, image.shape[1] // 2)\n",
    "    image_radius = max(image_center) * np.sqrt(2)\n",
    "\n",
    "    emiter_angles = np.deg2rad(np.arange(0, 360, step))\n",
    "    radon_image = np.zeros((len(emiter_angles), detectors), dtype=image.dtype)\n",
    "\n",
    "    detectors_angle = np.deg2rad(detectors_angular_span)\n",
    "    detectors_gap = detectors_angle / (detectors - 1)\n",
    "\n",
    "    for i, angle in enumerate(emiter_angles):\n",
    "        emiter_pos = (int(image_radius * np.cos(angle) + image_center[0]), \n",
    "                      int(image_radius * np.sin(angle) + image_center[1]))\n",
    "\n",
    "        for j in range(detectors):\n",
    "            detector_pos = (int(image_radius * (np.cos(angle + np.pi - detectors_angle / 2 + j * detectors_gap)) + image_center[0]),\n",
    "                            int(image_radius * (np.sin(angle + np.pi - detectors_angle / 2 + j * detectors_gap)) + image_center[1]))\n",
    "\n",
    "            line_pixels = bresenham(emiter_pos[0], emiter_pos[1], detector_pos[0], detector_pos[1])\n",
    "            \n",
    "            valid_pixels = [(y, x) for y, x in line_pixels if 0 <= y < image.shape[0] and 0 <= x < image.shape[1]]\n",
    "\n",
    "            if valid_pixels:\n",
    "                radon_image[i, j] = np.mean([image[y, x] for y, x in valid_pixels])\n",
    "\n",
    "    return radon_image"
   ]
  },
  {
   "cell_type": "markdown",
   "metadata": {},
   "source": [
    "# Odwrócona transformata Radona"
   ]
  },
  {
   "cell_type": "code",
   "execution_count": null,
   "metadata": {},
   "outputs": [],
   "source": [
    "def inverse_radon_transform(image, image_size, detectors_angular_span = 180, step = 1):\n",
    "    reconstructed_image = np.zeros((image_size[0], image_size[1]), dtype=np.float64)\n",
    "    \n",
    "    # get scans/detectors from image\n",
    "    scans = image.shape[0]\n",
    "    detectors = image.shape[1]\n",
    "\n",
    "    image_center = (image_size[0] // 2, image_size[1] // 2)\n",
    "    image_radius = max(image_center) * np.sqrt(2)\n",
    "\n",
    "    emiter_angles = np.deg2rad(np.arange(0, 360, step))\n",
    "    detectors_angle = np.deg2rad(detectors_angular_span)\n",
    "    detectors_gap = detectors_angle / (detectors - 1)\n",
    "\n",
    "    for i, angle in enumerate(emiter_angles):\n",
    "        emiter_pos = (int(image_radius * np.cos(angle) + image_center[0]), \n",
    "                        int(image_radius * np.sin(angle) + image_center[1]))\n",
    "\n",
    "        for j in range(detectors):\n",
    "            detector_pos = (int(image_radius * (np.cos(angle + np.pi - detectors_angle / 2 + j * detectors_gap)) + image_center[0]),\n",
    "                            int(image_radius * (np.sin(angle + np.pi - detectors_angle / 2 + j * detectors_gap)) + image_center[1]))\n",
    "\n",
    "            line_pixels = bresenham(emiter_pos[0], emiter_pos[1], detector_pos[0], detector_pos[1])\n",
    "\n",
    "            valid_pixels = [(y, x) for y, x in line_pixels if 0 <= y < image_size[0] and 0 <= x < image_size[1]]\n",
    "            if valid_pixels:\n",
    "                rows, cols = zip(*valid_pixels)\n",
    "                reconstructed_image[rows, cols] += image[i, j] #/ len(valid_pixels)\n",
    "\n",
    "    return reconstructed_image"
   ]
  },
  {
   "cell_type": "markdown",
   "metadata": {},
   "source": [
    "# Filtr sinogramu"
   ]
  },
  {
   "cell_type": "code",
   "execution_count": null,
   "metadata": {},
   "outputs": [],
   "source": [
    "def filter_sinogram(image, kernel_size=21):\n",
    "    # make it odd\n",
    "    if kernel_size % 2 == 0:\n",
    "        kernel_size += 1\n",
    "\n",
    "    kernel = np.zeros(kernel_size)\n",
    "    kernel_center = kernel_size // 2\n",
    "    kernel[kernel_center] = 1\n",
    "    for i in range(kernel_center + 1, kernel_size, 2):\n",
    "        val = (-4 / np.pi**2) / (i - kernel_center)**2\n",
    "        kernel[i] = val\n",
    "        kernel[-(i + 1)] = val\n",
    "\n",
    "    filtered_image = np.zeros((image.shape[0], image.shape[1]), dtype=image.dtype)\n",
    "    for i in range(image.shape[0]):\n",
    "        filtered_image[i, :] = np.convolve(image[i, :], kernel, mode='same')\n",
    "    return filtered_image"
   ]
  },
  {
   "cell_type": "markdown",
   "metadata": {},
   "source": [
    "### Błąd średniokwadratowy"
   ]
  },
  {
   "cell_type": "code",
   "execution_count": null,
   "metadata": {},
   "outputs": [],
   "source": [
    "def rmse(image_in, image_out):\n",
    "    return (np.mean(image_in - image_out)**2)**0.5"
   ]
  },
  {
   "cell_type": "markdown",
   "metadata": {},
   "source": [
    "## Zapis pliku DICOM"
   ]
  },
  {
   "cell_type": "code",
   "execution_count": null,
   "metadata": {},
   "outputs": [],
   "source": [
    "def save_DICOM(image, patient_id: str, patient_name: str, birth_date, sex:str, study_date, body_part:str, comment=\"Check-up\", filename=\"saved_dicom\"):\n",
    "    filename += \".dcm\"\n",
    "    ds = pydicom.Dataset()\n",
    "\n",
    "    ds.PatientName = patient_name\n",
    "    ds.PatientID = str(patient_id)\n",
    "    ds.PatientSex = 'M'\n",
    "    ds.PatientBirthDate = birth_date\n",
    "    \n",
    "    age = study_date.year - birth_date.year - ((study_date.month, study_date.day) < (birth_date.month, birth_date.day))\n",
    "    ds.PatientAge = f\"{age:03}Y\"\n",
    "\n",
    "    ds.BodyPartExamined = body_part\n",
    "    ds.Modality = \"CT\"\n",
    "    ds.StudyDate = study_date\n",
    "    ds.StudyInstanceUID = pydicom.uid.generate_uid()\n",
    "    ds.SeriesInstanceUID = pydicom.uid.generate_uid()\n",
    "    ds.SOPInstanceUID = pydicom.uid.generate_uid()\n",
    "    ds.SOPClassUID = pydicom.uid.CTImageStorage\n",
    "    ds.ImageType = [\"ORIGINAL\", \"PRIMARY\", \"AXIAL\"]\n",
    "    ds.InstanceNumber = str(random.randint(1, 100))\n",
    "    ds.ImagesInAcquisition = \"1\"\n",
    "    ds.FrameOfReferenceUID = pydicom.uid.generate_uid()\n",
    "\n",
    "    ds.Rows, ds.Columns = image.shape\n",
    "    ds.PhotometricInterpretation = \"MONOCHROME2\"\n",
    "    ds.SamplesPerPixel = 1\n",
    "    ds.BitsAllocated = 16\n",
    "    ds.BitsStored = 16\n",
    "    ds.HighBit = 15\n",
    "    ds.PixelRepresentation = 0\n",
    "    ds.PixelData = (image.astype(np.uint16)).tobytes()\n",
    "\n",
    "    file_meta = pydicom.dataset.FileMetaDataset()\n",
    "    file_meta.MediaStorageSOPClassUID = pydicom.uid.SecondaryCaptureImageStorage\n",
    "    file_meta.MediaStorageSOPInstanceUID = pydicom.uid.generate_uid()\n",
    "    file_meta.TransferSyntaxUID = pydicom.uid.ExplicitVRLittleEndian\n",
    "    file_meta.ImplementationClassUID = pydicom.uid.generate_uid()\n",
    "    file_meta.ImplementationVersionName = \"PYDICOM 2.0.0\"\n",
    "\n",
    "    ds.file_meta = file_meta\n",
    "\n",
    "    ds.ImageComments = comment\n",
    "\n",
    "    ds.is_little_endian = True\n",
    "    ds.is_implicit_VR = False\n",
    "    ds.save_as(filename, write_like_original=False)"
   ]
  },
  {
   "cell_type": "markdown",
   "metadata": {},
   "source": [
    "# Interaktywne tworzenie tomografu"
   ]
  },
  {
   "cell_type": "code",
   "execution_count": null,
   "metadata": {},
   "outputs": [],
   "source": [
    "# global variables\n",
    "filename = \"\"\n",
    "detectors = 180\n",
    "detectors_angular_span = 180\n",
    "step = 1\n",
    "\n",
    "is_filter = True\n",
    "\n",
    "in_image = None\n",
    "out_image = None\n",
    "\n",
    "def set_parameters(f, d, arch, i):\n",
    "    global filename, scans, detectors, detectors_angular_span, step\n",
    "    filename = f\n",
    "    detectors = d\n",
    "    detectors_angular_span = arch\n",
    "    step = i\n",
    "\n",
    "def set_is_filter(val):\n",
    "    global is_filter\n",
    "    is_filter = val"
   ]
  },
  {
   "cell_type": "markdown",
   "metadata": {},
   "source": [
    "### Tworzenie wykresów"
   ]
  },
  {
   "cell_type": "code",
   "execution_count": null,
   "metadata": {},
   "outputs": [],
   "source": [
    "def show_plot(arg):\n",
    "    global out_image, in_image\n",
    "    in_image = None\n",
    "\n",
    "    if re.match(r\".*.dcm\", filename):\n",
    "        dcm_file = pydicom.dcmread(filename)\n",
    "        in_image = dcm_file.pixel_array.astype(np.ubyte)\n",
    "        in_image = img_as_ubyte(in_image)\n",
    "    else:\n",
    "        in_image = io.imread(filename)\n",
    "        in_image = img_as_ubyte(in_image)\n",
    "\n",
    "    if in_image.ndim == 3:\n",
    "        in_image = in_image[..., 0]\n",
    "    \n",
    "    plt.figure(figsize=(6, 6))\n",
    "    plt.imshow(in_image, cmap='gray')\n",
    "    plt.title(\"Image\")\n",
    "    plt.axis(\"off\")\n",
    "    plt.show()\n",
    "    \n",
    "    original_size = in_image.shape\n",
    "    image = resize_image(in_image)\n",
    "    \n",
    "    # sinogram / inversed sinogram basic\n",
    "    sinogram = radon_transform(image, detectors=detectors, detectors_angular_span=detectors_angular_span, step=step)\n",
    "    inversed_sinogram = inverse_radon_transform(sinogram, image.shape, detectors_angular_span=detectors_angular_span, step=step)\n",
    "    inversed_sinogram = size_back(inversed_sinogram, original_size)\n",
    "    inversed_sinogram = normalize_image(inversed_sinogram)\n",
    "    \n",
    "    # plots\n",
    "    if is_filter:\n",
    "        filtered_sinogram = filter_sinogram(img_as_float64(sinogram))\n",
    "        inversed_filtered_sinogram = inverse_radon_transform(filtered_sinogram, image.shape, detectors_angular_span=detectors_angular_span, step=step)\n",
    "        inversed_filtered_sinogram = size_back(inversed_filtered_sinogram, original_size)\n",
    "        inversed_filtered_sinogram = normalize_image(inversed_filtered_sinogram)\n",
    "\n",
    "        fig, axes = plt.subplots(2, 2, figsize=(12, 12))\n",
    "\n",
    "        axes[0, 0].imshow(sinogram, cmap='gray', aspect='auto')\n",
    "        axes[0, 0].set_title(\"Sinogram (no filter)\")\n",
    "\n",
    "        axes[0, 1].imshow(filtered_sinogram, cmap='gray', aspect='auto')\n",
    "        axes[0, 1].set_title(\"Filtered sinogram\")\n",
    "\n",
    "        axes[1, 0].imshow(inversed_sinogram, cmap='gray')\n",
    "        axes[1, 0].set_title(\"Inversed sinogram (no filter)\")\n",
    "\n",
    "        axes[1, 1].imshow(inversed_filtered_sinogram, cmap='gray')\n",
    "        axes[1, 1].set_title(\"Inversed sinogram (filter)\")\n",
    "    else:\n",
    "        fig, axes = plt.subplots(1, 2, figsize=(12, 6))\n",
    "\n",
    "        axes[0].imshow(sinogram, cmap='gray', aspect='auto')\n",
    "        axes[0].set_title(\"Sinogram (bez filtra)\")\n",
    "\n",
    "        axes[1].imshow(inversed_sinogram, cmap='gray')\n",
    "        axes[1].set_title(\"Rekonstrukcja (bez filtra)\")\n",
    "\n",
    "    for ax in fig.axes:\n",
    "        ax.axis(\"off\")\n",
    "\n",
    "    plt.show()\n",
    "\n",
    "    out_image = inversed_filtered_sinogram if is_filter else inversed_sinogram"
   ]
  },
  {
   "cell_type": "markdown",
   "metadata": {},
   "source": [
    "# Interaktywny wybór parametrów i zdjęcia"
   ]
  },
  {
   "cell_type": "code",
   "execution_count": null,
   "metadata": {},
   "outputs": [],
   "source": [
    "filenames = glob.glob(\".\\\\images\\\\*.jpg\") + glob.glob(\".\\\\dicom\\\\*.dcm\")\n",
    "\n",
    "widgets.interact(set_parameters,\n",
    "         f=widgets.Dropdown(options=filenames, value='.\\\\images\\\\Kropka.jpg', description='Filename', layout=widgets.Layout(width='80%'), style={'description_width': '200px'}),\n",
    "         d=widgets.IntSlider(value=180, min=90, max=720, step=30, description='Amount of detectors:', layout=widgets.Layout(width='80%'), style={'description_width': '200px'}),\n",
    "         arch=widgets.IntSlider(value=180, min=90, max=360, step=10, description='Detectors angular span:', layout=widgets.Layout(width='80%'), style={'description_width': '200px'}),\n",
    "         i=widgets.IntSlider(value=2, min=1, max=10, step=1, description='Emiter-detectors rotate steps:', layout=widgets.Layout(width='80%'), style={'description_width': '200px'})\n",
    ")\n",
    "\n",
    "widgets.interact(set_is_filter, val=widgets.Checkbox(value=True, description='Sinogram filtering'))\n",
    "\n",
    "button = widgets.Button(description=\"Show results\")\n",
    "button.on_click(show_plot)\n",
    "\n",
    "display(button)"
   ]
  },
  {
   "cell_type": "markdown",
   "metadata": {},
   "source": [
    "## Zapis wyniku jako DICOM"
   ]
  },
  {
   "cell_type": "code",
   "execution_count": null,
   "metadata": {},
   "outputs": [],
   "source": [
    "patient_id = 0\n",
    "patient_name = ''\n",
    "patient_sex = ''\n",
    "patient_birth_date = datetime.date.today()\n",
    "patient_study_date = datetime.date.today()\n",
    "patient_body_part = ''\n",
    "patient_comment = ''\n",
    "filename_dicom = ''\n",
    "\n",
    "def set_dicom_params(id, name, sex, birth, exam, body_part, comment, filename):\n",
    "    global patient_id, patient_name, patient_sex, patient_birth_date, patient_study_date, patient_body_part, patient_comment, filename_dicom\n",
    "    patient_id = str(id)\n",
    "    patient_name = name\n",
    "    patient_sex = sex\n",
    "    patient_birth_date = birth\n",
    "    patient_study_date = exam\n",
    "    patient_body_part = body_part\n",
    "    patient_comment = comment\n",
    "    filename_dicom = filename\n",
    "\n",
    "def on_save_cliked(arg):\n",
    "    save_DICOM(img_as_ubyte(out_image), patient_id, patient_name, patient_birth_date, patient_sex, patient_study_date, patient_body_part)\n"
   ]
  },
  {
   "cell_type": "code",
   "execution_count": null,
   "metadata": {},
   "outputs": [],
   "source": [
    "widgets.interact(set_dicom_params, \n",
    "                 id = widgets.IntText(description=\"Patient ID:\", value=1111111),\n",
    "                 name = widgets.Text(description=\"Name and Surname:\", value=\"ABC XYZ\"),\n",
    "                 sex = widgets.Dropdown(description=\"Sex:\", options=['M', 'F'], value='M'),\n",
    "                 birth = widgets.DatePicker(description=\"Birth date:\", value=datetime.date.today()),\n",
    "                 exam = widgets.DatePicker(description=\"Study date:\", value=datetime.date.today()),\n",
    "                 body_part = widgets.Text(description=\"Body part:\", value=\"HEAD\"),\n",
    "                 comment = widgets.Text(description=\"Comment:\", value=\"Check-up\"),\n",
    "                 filename = widgets.Text(description=\"Filename (without extension)\", value=\"saved_dicom\"))\n",
    "\n",
    "button = widgets.Button(description=\"Save as DICOM\")\n",
    "button.on_click(on_save_cliked)\n",
    "\n",
    "display(button)"
   ]
  },
  {
   "cell_type": "markdown",
   "metadata": {},
   "source": [
    "## Sprawdź błąd RMSE"
   ]
  },
  {
   "cell_type": "code",
   "execution_count": null,
   "metadata": {},
   "outputs": [],
   "source": [
    "print(\"Błąd średniokwadratowy - {:6f}\".format(rmse(in_image, out_image)))"
   ]
  }
 ],
 "metadata": {
  "kernelspec": {
   "display_name": "Python 3",
   "language": "python",
   "name": "python3"
  },
  "language_info": {
   "codemirror_mode": {
    "name": "ipython",
    "version": 3
   },
   "file_extension": ".py",
   "mimetype": "text/x-python",
   "name": "python",
   "nbconvert_exporter": "python",
   "pygments_lexer": "ipython3",
   "version": "3.11.0"
  }
 },
 "nbformat": 4,
 "nbformat_minor": 2
}
